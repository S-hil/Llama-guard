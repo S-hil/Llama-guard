{
 "cells": [
  {
   "cell_type": "markdown",
   "id": "01f614c6-d39a-4439-8f96-9434c3ab7cb4",
   "metadata": {},
   "source": [
    "# Code Llama"
   ]
  },
  {
   "cell_type": "markdown",
   "id": "0319e974-0ad4-466a-982f-d7225a1a7e31",
   "metadata": {},
   "source": [
    "Here are the names of the Code Llama models provided by Together.ai:"
   ]
  },
  {
   "cell_type": "markdown",
   "id": "2d652420-3d6d-4e6a-9d26-5a608352b3c7",
   "metadata": {},
   "source": [
    "- ```togethercomputer/CodeLlama-7b```\n",
    "- ```togethercomputer/CodeLlama-13b```\n",
    "- ```togethercomputer/CodeLlama-34b```\n",
    "- ```togethercomputer/CodeLlama-7b-Python```\n",
    "- ```togethercomputer/CodeLlama-13b-Python```\n",
    "- ```togethercomputer/CodeLlama-34b-Python```\n",
    "- ```togethercomputer/CodeLlama-7b-Instruct```\n",
    "- ```togethercomputer/CodeLlama-13b-Instruct```\n",
    "- ```togethercomputer/CodeLlama-34b-Instruct```"
   ]
  },
  {
   "cell_type": "code",
   "execution_count": 5,
   "id": "66ef227c",
   "metadata": {
    "height": 30
   },
   "outputs": [],
   "source": [
    "from utils import llama, code_llama"
   ]
  },
  {
   "cell_type": "code",
   "execution_count": 6,
   "id": "5c9977e6",
   "metadata": {
    "height": 574
   },
   "outputs": [],
   "source": [
    "from IPython.display import display, Markdown\n",
    "import re  # For simple parsing or string manipulations if needed\n",
    "\n",
    "def generate_qa_tests(code_snippet):\n",
    "    \"\"\"\n",
    "    Generates and formats QA tests for a given code snippet using Code Llama.\n",
    "    \n",
    "    Args:\n",
    "        code_snippet (str): The code snippet for which to generate QA tests.\n",
    "    \n",
    "    Returns:\n",
    "        str: Formatted QA tests.\n",
    "    \"\"\"\n",
    "    # Example prompt. Modify according to your needs.\n",
    "    prompt = f\"\"\"\n",
    "    Given the following code:\n",
    "\n",
    "    {code_snippet}\n",
    "\n",
    "    Generate comprehensive unit tests that cover:\n",
    "    - Adding two positive numbers\n",
    "    - Adding zero and a positive number\n",
    "    - Attempting to add a negative number and a positive number, expecting a ValueError\n",
    "    - Edge cases, such as very large numbers\n",
    "\n",
    "    Include comments explaining the purpose of each test case.\n",
    "    \"\"\"\n",
    "\n",
    "    response = code_llama(prompt)\n",
    "    # Here you might parse and structure the response further if needed\n",
    "    # For simplicity, we're assuming the response is ready to be formatted and displayed\n",
    "    \n",
    "    return response"
   ]
  },
  {
   "cell_type": "code",
   "execution_count": 7,
   "id": "f62e659f",
   "metadata": {
    "height": 200
   },
   "outputs": [],
   "source": [
    "def display_code_as_markdown(code):\n",
    "    \"\"\"\n",
    "    Formats and displays code in a Markdown cell within the Jupyter Notebook.\n",
    "    \n",
    "    Args:\n",
    "        code (str): The code to format and display.\n",
    "    \"\"\"\n",
    "    formatted_code = f\"```python\\n{code}\\n```\"  # Markdown code block\n",
    "    display(Markdown(formatted_code))\n",
    "\n"
   ]
  },
  {
   "cell_type": "code",
   "execution_count": 8,
   "id": "70bcbb65",
   "metadata": {
    "height": 149
   },
   "outputs": [
    {
     "data": {
      "text/markdown": [
       "```python\n",
       "  Here is an example of comprehensive unit tests for the `example_function` function:\n",
       "```\n",
       "import unittest\n",
       "\n",
       "class ExampleFunctionTests(unittest.TestCase):\n",
       "    def test_add_positive_numbers(self):\n",
       "        \"\"\"Test adding two positive numbers\"\"\"\n",
       "        result = example_function(2, 3)\n",
       "        self.assertEqual(result, 6)\n",
       "\n",
       "    def test_add_zero_and_positive_number(self):\n",
       "        \"\"\"Test adding zero and a positive number\"\"\"\n",
       "        result = example_function(0, 3)\n",
       "        self.assertEqual(result, 3)\n",
       "\n",
       "    def test_add_negative_and_positive_number(self):\n",
       "        \"\"\"Test attempting to add a negative number and a positive number, expecting a ValueError\"\"\"\n",
       "        with self.assertRaises(ValueError):\n",
       "            example_function(-1, 3)\n",
       "\n",
       "    def test_edge_cases(self):\n",
       "        \"\"\"Test edge cases, such as very large numbers\"\"\"\n",
       "        result = example_function(1000000000, 1000000000)\n",
       "        self.assertEqual(result, 2000000000)\n",
       "```\n",
       "In this example, we have four test cases:\n",
       "\n",
       "1. `test_add_positive_numbers`: This test case adds two positive numbers and checks that the result is correct.\n",
       "2. `test_add_zero_and_positive_number`: This test case adds zero and a positive number and checks that the result is correct.\n",
       "3. `test_add_negative_and_positive_number`: This test case attempts to add a negative number and a positive number, expecting a `ValueError` to be raised.\n",
       "4. `test_edge_cases`: This test case tests edge cases, such as very large numbers, and checks that the result is correct.\n",
       "\n",
       "Each test case is a separate method that starts with the word `test_`. The `self.assertEqual` method is used to check that the result of the function is correct. The `self.assertRaises` method is used to check that a `ValueError` is raised when attempting to add a negative number and a positive number.\n",
       "\n",
       "The `unittest.TestCase` class is used to define the test cases. The `unittest.main()` function is used to run the tests.\n",
       "```"
      ],
      "text/plain": [
       "<IPython.core.display.Markdown object>"
      ]
     },
     "metadata": {},
     "output_type": "display_data"
    }
   ],
   "source": [
    "# Example usage\n",
    "code_snippet = \"\"\"\n",
    "def example_function(x):\n",
    "    return x * 2\n",
    "\"\"\"\n",
    "\n",
    "tests = generate_qa_tests(code_snippet)\n",
    "display_code_as_markdown(tests)"
   ]
  }
 ],
 "metadata": {
  "kernelspec": {
   "display_name": "Python 3 (ipykernel)",
   "language": "python",
   "name": "python3"
  },
  "language_info": {
   "codemirror_mode": {
    "name": "ipython",
    "version": 3
   },
   "file_extension": ".py",
   "mimetype": "text/x-python",
   "name": "python",
   "nbconvert_exporter": "python",
   "pygments_lexer": "ipython3",
   "version": "3.10.13"
  }
 },
 "nbformat": 4,
 "nbformat_minor": 5
}
